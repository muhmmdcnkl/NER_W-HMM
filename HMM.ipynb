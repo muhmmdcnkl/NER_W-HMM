{
 "cells": [
  {
   "cell_type": "markdown",
   "id": "07ad223d",
   "metadata": {},
   "source": [
    "# Named Entity Recognition with HMM  "
   ]
  },
  {
   "cell_type": "code",
   "execution_count": 5,
   "id": "7ff03210",
   "metadata": {},
   "outputs": [],
   "source": [
    "from io import open\n",
    "\n",
    "from nltk import FreqDist\n",
    "from nltk import WittenBellProbDist\n",
    "from nltk.util import bigrams\n",
    "from conllu import parse_incr\n",
    "import numpy as np\n",
    "import pandas as pd"
   ]
  },
  {
   "cell_type": "markdown",
   "id": "70915edf",
   "metadata": {},
   "source": [
    "CHOOSE LANGUAGE from corpora below"
   ]
  },
  {
   "cell_type": "code",
   "execution_count": 6,
   "id": "351a8282",
   "metadata": {},
   "outputs": [],
   "source": [
    "lang = 'tr'\n",
    "\n",
    "corpora = {}\n",
    "corpora['en'] = 'UD_English-EWT/en_ewt'\n",
    "corpora['tr'] = 'UD_Turkish-Kenet/tr_kenet'"
   ]
  },
  {
   "cell_type": "code",
   "execution_count": 7,
   "id": "5057e4d3",
   "metadata": {},
   "outputs": [],
   "source": [
    "def train_corpus(lang):\n",
    "\treturn corpora[lang] + '-ud-train.conllu'\n",
    "\n",
    "def test_corpus(lang):\n",
    "\treturn corpora[lang] + '-ud-test.conllu'\n",
    "\n",
    "# Remove contractions such as \"isn't\".\n",
    "def prune_sentence(sent):\n",
    "\treturn [token for token in sent if type(token['id']) is int]\n",
    "\n",
    "def conllu_corpus(path):\n",
    "\tdata_file = open(path, 'r', encoding='utf-8')\n",
    "\tsents = list(parse_incr(data_file))\n",
    "\treturn [prune_sentence(sent) for sent in sents]"
   ]
  },
  {
   "cell_type": "markdown",
   "id": "8c079864",
   "metadata": {},
   "source": [
    "Limit length of sentences to avoid underflow."
   ]
  },
  {
   "cell_type": "code",
   "execution_count": 8,
   "id": "90b81682",
   "metadata": {},
   "outputs": [],
   "source": [
    "max_len = 100"
   ]
  },
  {
   "cell_type": "markdown",
   "id": "326d64ca",
   "metadata": {},
   "source": [
    "Get sentences for training and testing "
   ]
  },
  {
   "cell_type": "code",
   "execution_count": 9,
   "id": "ce22316b",
   "metadata": {},
   "outputs": [
    {
     "name": "stdout",
     "output_type": "stream",
     "text": [
      "15398 training sentences\n",
      "1643 test sentences\n"
     ]
    }
   ],
   "source": [
    "train_sents = conllu_corpus(train_corpus(lang))\n",
    "test_sents = conllu_corpus(test_corpus(lang))\n",
    "test_sents = [sent for sent in test_sents if len(sent) <= max_len]\n",
    "print(len(train_sents), 'training sentences')\n",
    "print(len(test_sents), 'test sentences')"
   ]
  },
  {
   "cell_type": "markdown",
   "id": "a618ad79",
   "metadata": {},
   "source": [
    "TRAINING DATA in tuple - Gives a tuple of words and tags"
   ]
  },
  {
   "cell_type": "code",
   "execution_count": 10,
   "id": "736e1ea8",
   "metadata": {},
   "outputs": [],
   "source": [
    "def get_words_and_tags(sentences):\n",
    "    words = []\n",
    "    tags = []\n",
    "    for sent in sentences:\n",
    "\t    for token in sent:\n",
    "\t\t    words.append(token['form'])\n",
    "\t\t    tags.append(token['upos'])\n",
    "    # put it in the list of tuples\n",
    "    list_of_tup = list(zip(words,tags))\n",
    "    return list_of_tup"
   ]
  },
  {
   "cell_type": "markdown",
   "id": "9285afff",
   "metadata": {},
   "source": [
    "Returns lemmas from a given corpora"
   ]
  },
  {
   "cell_type": "code",
   "execution_count": 11,
   "id": "47a00c52",
   "metadata": {},
   "outputs": [],
   "source": [
    "def get_lemmas(sentences):\n",
    "    lemmas=[]\n",
    "    for sent in sentences:\n",
    "        for token in sent:\n",
    "            lemmas.append(token['lemma'])\n",
    "    return lemmas"
   ]
  },
  {
   "cell_type": "markdown",
   "id": "e4d21887",
   "metadata": {},
   "source": [
    "BIGRAMS of training tags - This function creates bigrams from our training set and adds tags for begining and end of the sentence"
   ]
  },
  {
   "cell_type": "code",
   "execution_count": 12,
   "id": "56f1dc22",
   "metadata": {},
   "outputs": [],
   "source": [
    "def bigrams_tags_begend(train_sents):\n",
    "    start = '<s>'\n",
    "    end = '</s>'\n",
    "    tags = []\n",
    "    for sent in train_sents:\n",
    "        tags.append(start)\n",
    "        for token in sent:\n",
    "            tags.append(token['upos'])\n",
    "        tags.append(end)\n",
    "    tags_bigrams = list(bigrams(tags))\n",
    "    return tags_bigrams"
   ]
  },
  {
   "cell_type": "markdown",
   "id": "90eb4bed",
   "metadata": {},
   "source": [
    "EMISSION, Counts for Emission probability. Returns: Emission probability. Calculated by count of the word marked by the given tag and count of that tag"
   ]
  },
  {
   "cell_type": "code",
   "execution_count": 13,
   "id": "5b8742b6",
   "metadata": {},
   "outputs": [],
   "source": [
    "def emission_by_count(train_words_tags, given_word, given_tag):\n",
    "    word_selection = [word for (word, tag) in train_words_tags if word == given_word and tag==given_tag]\n",
    "    word_count = len(word_selection)\n",
    "    tag_selection = [tag for (word, tag) in train_words_tags if tag==given_tag]\n",
    "    tag_count = len(tag_selection)\n",
    "    return (word_count/tag_count)"
   ]
  },
  {
   "cell_type": "markdown",
   "id": "78c2955b",
   "metadata": {},
   "source": [
    "SMOOTH EMISSION"
   ]
  },
  {
   "cell_type": "code",
   "execution_count": 14,
   "id": "e068c9f2",
   "metadata": {},
   "outputs": [],
   "source": [
    "def emission_by_smoothing(train_words_tags):\n",
    "    smoothed = {}\n",
    "    uniqueTags = set([t for (_,t) in train_words_tags])\n",
    "    for tag in uniqueTags:\n",
    "        words = [w for (w,t) in train_words_tags if t == tag]\n",
    "        smoothed[tag] = WittenBellProbDist(FreqDist(words), bins=1e5)\n",
    "    return smoothed"
   ]
  },
  {
   "cell_type": "markdown",
   "id": "539da790",
   "metadata": {},
   "source": [
    "To calculate emission probability for particular word and tag in test set"
   ]
  },
  {
   "cell_type": "code",
   "execution_count": 15,
   "id": "68998c07",
   "metadata": {},
   "outputs": [],
   "source": [
    "def emission_smoothed_proba(smoothed, given_word, given_tag):\n",
    "    return smoothed[given_tag].prob(given_word)"
   ]
  },
  {
   "cell_type": "markdown",
   "id": "fdc41493",
   "metadata": {},
   "source": [
    "TRANSITION"
   ]
  },
  {
   "cell_type": "code",
   "execution_count": 16,
   "id": "c4273f24",
   "metadata": {},
   "outputs": [],
   "source": [
    "def transition_by_count(train_tags_bigrams, tag1, tag2):\n",
    "    tag1_tag2 = [pair for pair in train_tags_bigrams if pair[0]==tag1 and pair[1]==tag2]\n",
    "    tag1_tag2_count = len(tag1_tag2)\n",
    "    tag1_occurance = [t1 for t1,t2 in train_tags_bigrams if t1 == tag1]\n",
    "    tag1_count = len(tag1_occurance)\n",
    "    return (tag1_tag2_count/tag1_count)"
   ]
  },
  {
   "cell_type": "markdown",
   "id": "767f00ef",
   "metadata": {},
   "source": [
    "SMOOTH TRANSITION - Where tag1 is preceeding, tag2 is current tag"
   ]
  },
  {
   "cell_type": "code",
   "execution_count": 17,
   "id": "68b994b6",
   "metadata": {},
   "outputs": [],
   "source": [
    "def transition_by_smoothing(train_tags_bigrams):\n",
    "    smoothed = {}\n",
    "    uniqueTags = set([t for (t,_) in train_tags_bigrams])\n",
    "    for tag1 in uniqueTags:\n",
    "        tag2 = [t2 for (t1,t2) in train_tags_bigrams if t1 == tag1]\n",
    "        smoothed[tag1] = WittenBellProbDist(FreqDist(tag2), bins=1e5)\n",
    "    return smoothed"
   ]
  },
  {
   "cell_type": "markdown",
   "id": "9f7534aa",
   "metadata": {},
   "source": [
    "To calculate transition probability for particular word and tag in test set"
   ]
  },
  {
   "cell_type": "code",
   "execution_count": 18,
   "id": "222299f6",
   "metadata": {},
   "outputs": [],
   "source": [
    "def transition_smoothed_proba(smoothed, given_tag1, given_tag2):\n",
    "    return smoothed[given_tag1].prob(given_tag2)"
   ]
  },
  {
   "cell_type": "markdown",
   "id": "360a2069",
   "metadata": {},
   "source": [
    "Prints transition matrix"
   ]
  },
  {
   "cell_type": "code",
   "execution_count": 19,
   "id": "0f72cc56",
   "metadata": {},
   "outputs": [],
   "source": [
    "def print_transition_matrix(train_tags_bigrams, tags):\n",
    "    smoothed = transition_by_smoothing(train_tags_bigrams)\n",
    "    tags.insert(0,'<s>')\n",
    "    tags.append('</s>')\n",
    "    transition_matrix = np.zeros((len(tags), len(tags)), dtype='float32')\n",
    "    for tag1 in tags:\n",
    "        for tag2 in tags:\n",
    "            transition_matrix[tags.index(tag1), tags.index(tag2)] = transition_smoothed_proba(smoothed, tag1, tag2)\n",
    "    pd.set_option('display.max_rows', 500)\n",
    "    pd.set_option('display.max_columns', 500)\n",
    "    tags_df = pd.DataFrame(transition_matrix, columns = list(tags), index=list(tags))\n",
    "    print(tags_df)"
   ]
  },
  {
   "cell_type": "markdown",
   "id": "33c338b7",
   "metadata": {},
   "source": [
    "VITERBI algorithm"
   ]
  },
  {
   "cell_type": "code",
   "execution_count": 20,
   "id": "7d9e9d0a",
   "metadata": {},
   "outputs": [],
   "source": [
    "def Viterbi(test_sents, train_words_tags, train_tags_bigrams):\n",
    "    smoothed_transition = transition_by_smoothing(train_tags_bigrams)\n",
    "    smoothed_emission = emission_by_smoothing(train_words_tags)\n",
    "    predicted_tags=[]\n",
    "    words_to_tag = []\n",
    "    tags = list(set([t for w,t in train_words_tags]))\n",
    "    print(f'Unique tags: {tags}')\n",
    "\n",
    "    # Take training sentences and put them into words, the algorithm takes sentences and run algorithm on them one by one\n",
    "    for sent in test_sents:\n",
    "        words = []\n",
    "        for token in sent:\n",
    "            words.append(token['form'])\n",
    "            words_to_tag.append(token['form'])\n",
    "\n",
    "        # Creates viterbi matrix that contains cells that have 2 values in them, first one is probability of that cell and second one is index of previous tag\n",
    "        cols = len(words)\n",
    "        rows = len(tags)\n",
    "        viterbi_matrix = np.zeros((rows,cols,2))\n",
    "\n",
    "        # Initialise first column of the matrix\n",
    "        for current_tag_index in range(0, len(tags)):\n",
    "            viterbi_matrix[current_tag_index, 0, 0] =  transition_smoothed_proba(smoothed_transition, '<s>',tags[current_tag_index])*emission_smoothed_proba(smoothed_emission, words[0],\n",
    "             tags[current_tag_index])\n",
    "            viterbi_matrix[current_tag_index, 0, 1] = 0 #here it does not matter what number it has because previous tag is <s> start of the sentence and it will never be considered\n",
    "        for word_index in range(1, len(words)):\n",
    "            for current_tag_index in range(len(tags)):\n",
    "                cell_proba = [] # represents cell and inside goes all the probabilities gained from previous column that have same order as tags => its index will give us index of te tag later\n",
    "                for previous_tag_index in range(len(tags)):\n",
    "                    cell_proba.append(viterbi_matrix[previous_tag_index, word_index-1, 0]*transition_smoothed_proba(smoothed_transition, tags[previous_tag_index],tags[current_tag_index]))\n",
    "                max_cell_proba = max(cell_proba)\n",
    "                max_cell_tag_index = cell_proba.index(max_cell_proba) # as mentioned columns in the matrix are indexed in the same way the tags\n",
    "                viterbi_matrix[current_tag_index, word_index, 0] = max_cell_proba*emission_smoothed_proba(smoothed_emission, words[word_index], tags[current_tag_index])\n",
    "                viterbi_matrix[current_tag_index, word_index, 1] = max_cell_tag_index\n",
    "        last_proba = []\n",
    "        # Final calculation of probability and terminating Veterbi algorithm\n",
    "        for previous_tag_index in range(len(tags)):\n",
    "            last_proba.append(viterbi_matrix[previous_tag_index, len(words)-1,0]*transition_smoothed_proba(smoothed_transition, tags[previous_tag_index],'</s>'))\n",
    "        max_last_proba = max(last_proba)\n",
    "        max_last_tag_index = last_proba.index(max_last_proba)\n",
    "\n",
    "        # Backtracking\n",
    "        backtrack = []\n",
    "        predicted_tag_index =max_last_tag_index\n",
    "        backtrack.append(tags[predicted_tag_index])\n",
    "        for column in range(len(words)-1,0,-1): # This goes back column by column\n",
    "            predicted_tag_index = int(viterbi_matrix[predicted_tag_index, column, 1])\n",
    "            backtrack.append(tags[predicted_tag_index])\n",
    "        backtrack.reverse()\n",
    "        for t in backtrack:\n",
    "            predicted_tags.append(t)\n",
    "\n",
    "    print(\"Predicted words:\", len(words_to_tag))\n",
    "    print(\"Predicted tags: \", len(predicted_tags))\n",
    "    return list(zip(words_to_tag, predicted_tags))"
   ]
  },
  {
   "cell_type": "markdown",
   "id": "e0352532",
   "metadata": {},
   "source": [
    "TUPLE of training data - words and tags in tuple"
   ]
  },
  {
   "cell_type": "code",
   "execution_count": 21,
   "id": "3a251c52",
   "metadata": {},
   "outputs": [],
   "source": [
    "train_words_tags = get_words_and_tags(train_sents)"
   ]
  },
  {
   "cell_type": "markdown",
   "id": "fed0de64",
   "metadata": {},
   "source": [
    " RUNNING Viterbi algorithm"
   ]
  },
  {
   "cell_type": "code",
   "execution_count": 22,
   "id": "81dd2a47",
   "metadata": {},
   "outputs": [
    {
     "name": "stdout",
     "output_type": "stream",
     "text": [
      "Unique tags: ['INTJ', 'SCONJ', 'PROPN', 'CCONJ', 'ADV', 'NOUN', 'VERB', 'DET', 'AUX', 'PUNCT', 'X', 'ADP', 'ADJ', 'NUM', 'PRON']\n",
      "Predicted words: 17817\n",
      "Predicted tags:  17817\n"
     ]
    }
   ],
   "source": [
    "test_words_tags = get_words_and_tags(test_sents)\n",
    "test_correct_tags = [t for w,t in test_words_tags]\n",
    "test_words = [w for w,t in test_words_tags]\n",
    "train_tags_bigrams = bigrams_tags_begend(train_sents)\n",
    "predicted_words_tags = Viterbi(test_sents, train_words_tags, train_tags_bigrams)\n",
    "predicted_tags = [t for w,t in predicted_words_tags]"
   ]
  },
  {
   "cell_type": "markdown",
   "id": "875319b1",
   "metadata": {},
   "source": [
    " ACCURACY"
   ]
  },
  {
   "cell_type": "code",
   "execution_count": 23,
   "id": "2b6ef915",
   "metadata": {},
   "outputs": [
    {
     "name": "stdout",
     "output_type": "stream",
     "text": [
      "Viterbi Algorithm Accuracy: 88.64006286131223 %\n"
     ]
    }
   ],
   "source": [
    "check = [i for i, j in zip(predicted_tags, test_correct_tags) if i == j]\n",
    "accuracy = len(check)/len(test_correct_tags)\n",
    "print(f'Viterbi Algorithm Accuracy: {accuracy*100} %')"
   ]
  },
  {
   "cell_type": "markdown",
   "id": "2225ef2d",
   "metadata": {},
   "source": [
    "Inspection of data"
   ]
  },
  {
   "cell_type": "code",
   "execution_count": 24,
   "id": "4e51301b",
   "metadata": {},
   "outputs": [
    {
     "name": "stdout",
     "output_type": "stream",
     "text": [
      "Number of words in training set:  143287\n",
      "Number of unique words in training set:  42813\n",
      "Number of unique tags in training set:  15\n",
      "Number of unique lemmas in training set:  14062\n",
      "Forms/Lemmas ratio: 3.0445882520267387\n",
      "                <s>          INTJ         SCONJ         PROPN         CCONJ  \\\n",
      "<s>    9.733505e-09  8.693960e-03  1.362486e-03  5.917083e-02  1.505223e-02   \n",
      "INTJ   4.546000e-07  2.651515e-02  4.546000e-07  4.545455e-02  7.575758e-03   \n",
      "SCONJ  3.470413e-07  3.154574e-03  3.470413e-07  1.892745e-02  3.154574e-03   \n",
      "PROPN  7.918140e-08  4.948045e-04  4.948045e-04  1.044038e-01  2.820386e-02   \n",
      "CCONJ  3.944846e-08  7.888509e-04  2.629503e-04  1.840652e-02  1.866947e-02   \n",
      "ADV    1.854294e-08  6.952491e-04  1.274623e-03  1.170336e-02  2.595597e-02   \n",
      "NOUN   3.002526e-09  3.752557e-04  5.253579e-04  5.966565e-03  3.274105e-02   \n",
      "VERB   9.417149e-09  1.883128e-03  1.153416e-02  1.588890e-03  3.166009e-02   \n",
      "DET    2.067370e-08  1.590078e-04  2.067370e-08  3.498171e-03  3.816187e-03   \n",
      "AUX    2.158597e-07  8.633094e-03  1.582734e-02  7.194245e-03  2.446043e-02   \n",
      "PUNCT  6.717555e-09  1.301318e-03  4.197800e-05  6.086810e-03  3.022416e-03   \n",
      "X      6.044621e-07  6.044621e-07  6.044621e-07  6.044621e-07  6.044621e-07   \n",
      "ADP    5.535886e-08  5.535886e-08  3.690037e-04  8.118081e-03  1.328413e-02   \n",
      "ADJ    8.464724e-09  2.644803e-04  1.639778e-03  6.982280e-03  2.946310e-02   \n",
      "NUM    7.026604e-08  5.854801e-04  7.026604e-08  2.341920e-03  7.025761e-03   \n",
      "PRON   4.138236e-08  1.034394e-03  1.034394e-03  4.654771e-03  5.171968e-02   \n",
      "</s>   9.999350e-01  6.494415e-10  6.494415e-10  6.494415e-10  6.494415e-10   \n",
      "\n",
      "                ADV          NOUN          VERB           DET           AUX  \\\n",
      "<s>    7.766172e-02  4.446895e-01  2.095634e-02  8.590151e-02  1.946409e-04   \n",
      "INTJ   8.333334e-02  1.628788e-01  7.575758e-02  6.060606e-02  4.546000e-07   \n",
      "SCONJ  6.940063e-02  4.164038e-01  4.100946e-02  9.779180e-02  3.470413e-07   \n",
      "PROPN  4.651163e-02  4.200891e-01  7.422068e-02  1.979218e-02  9.896090e-04   \n",
      "CCONJ  7.362609e-02  4.388641e-01  1.070208e-01  4.785696e-02  1.314751e-03   \n",
      "ADV    9.015064e-02  3.219003e-01  1.848204e-01  4.797219e-02  4.403245e-03   \n",
      "NOUN   7.949791e-02  3.375237e-01  1.983601e-01  2.292812e-02  4.334203e-03   \n",
      "VERB   1.512387e-02  5.749426e-02  3.366092e-02  8.886012e-03  1.106338e-02   \n",
      "DET    1.065352e-02  8.096676e-01  4.006996e-02  4.770234e-04  2.067370e-08   \n",
      "AUX    2.446043e-02  7.482015e-02  9.928057e-02  1.151079e-02  2.302158e-02   \n",
      "PUNCT  3.014021e-02  1.762656e-01  2.728570e-02  1.939384e-02  2.098900e-04   \n",
      "X      3.846154e-02  2.527473e-01  1.593407e-01  3.846154e-02  6.044621e-07   \n",
      "ADP    8.302583e-02  3.121771e-01  2.033210e-01  6.125461e-02  5.904059e-03   \n",
      "ADJ    1.565723e-02  4.943137e-01  6.405713e-02  1.104999e-01  7.934409e-03   \n",
      "NUM    2.751756e-02  6.346604e-01  3.278688e-02  1.756440e-03  7.026604e-08   \n",
      "PRON   9.050944e-02  3.429015e-01  1.311094e-01  4.085855e-02  6.723559e-03   \n",
      "</s>   6.494415e-10  6.494415e-10  6.494415e-10  6.494415e-10  6.494415e-10   \n",
      "\n",
      "              PUNCT             X           ADP           ADJ           NUM  \\\n",
      "<s>    1.622007e-03  5.190424e-04  2.595212e-04  1.831571e-01  2.264322e-02   \n",
      "INTJ   3.863636e-01  4.546000e-07  7.575758e-03  5.303030e-02  4.546000e-07   \n",
      "SCONJ  9.148265e-02  3.470413e-07  3.470413e-07  1.009464e-01  6.309148e-03   \n",
      "PROPN  1.326076e-01  4.948045e-04  2.127660e-02  1.133102e-01  8.906482e-03   \n",
      "CCONJ  1.341047e-02  3.944846e-08  1.314751e-03  2.085196e-01  1.130686e-02   \n",
      "ADV    5.307068e-02  5.793743e-04  6.257242e-03  1.981460e-01  1.228273e-02   \n",
      "NOUN   1.286001e-01  8.630880e-04  3.482372e-02  1.232715e-01  8.762219e-03   \n",
      "VERB   7.723180e-01  2.353910e-04  1.218149e-02  1.388807e-02  2.236215e-03   \n",
      "DET    4.452218e-03  4.770234e-04  1.272062e-02  1.014470e-01  6.360312e-03   \n",
      "AUX    6.374100e-01  2.158597e-07  8.633094e-03  1.438849e-02  1.438849e-03   \n",
      "PUNCT  9.654941e-04  5.457141e-04  5.037360e-04  8.072370e-02  6.884392e-03   \n",
      "X      3.296703e-02  3.516484e-01  5.494506e-03  4.395605e-02  5.494506e-03   \n",
      "ADP    5.092251e-02  2.583026e-03  2.214022e-03  1.959410e-01  1.660517e-02   \n",
      "ADJ    1.025655e-01  1.005025e-03  1.311822e-02  1.351494e-01  8.357577e-03   \n",
      "NUM    2.224824e-02  7.026604e-08  2.927400e-03  1.364169e-01  1.241218e-01   \n",
      "PRON   7.240755e-02  2.585984e-04  4.292733e-02  1.510215e-01  1.344712e-02   \n",
      "</s>   6.494415e-10  6.494415e-10  6.494415e-10  6.494415e-10  6.494415e-10   \n",
      "\n",
      "               PRON          </s>  \n",
      "<s>    7.714267e-02  9.733505e-09  \n",
      "INTJ   4.166667e-02  3.787879e-03  \n",
      "SCONJ  1.167192e-01  3.470413e-07  \n",
      "PROPN  1.929738e-02  9.896090e-04  \n",
      "CCONJ  5.416776e-02  5.259006e-04  \n",
      "ADV    3.754345e-02  1.390498e-03  \n",
      "NOUN   1.750568e-02  3.621217e-03  \n",
      "VERB   1.218149e-02  1.312305e-02  \n",
      "DET    4.134202e-03  2.067370e-08  \n",
      "AUX    1.870504e-02  8.633094e-03  \n",
      "PUNCT  2.073713e-02  6.252204e-01  \n",
      "X      5.494506e-03  5.494506e-03  \n",
      "ADP    3.431734e-02  4.428044e-03  \n",
      "ADJ    5.924358e-03  2.221634e-03  \n",
      "NUM    5.854801e-04  7.026604e-08  \n",
      "PRON   4.266873e-02  2.585984e-03  \n",
      "</s>   6.494415e-10  6.494415e-10  \n"
     ]
    }
   ],
   "source": [
    "tags = [tag for (word, tag) in train_words_tags]\n",
    "words = [word for (word, tag) in train_words_tags]\n",
    "lemmas = get_lemmas(train_sents)\n",
    "print(\"Number of words in training set: \", len(words))\n",
    "print(\"Number of unique words in training set: \", len(set(words)))\n",
    "print(\"Number of unique tags in training set: \", len(set(tags)))\n",
    "print(\"Number of unique lemmas in training set: \", len(set(lemmas)))\n",
    "print(f\"Forms/Lemmas ratio: {len(set(words))/len(set(lemmas))}\")\n",
    "print_transition_matrix(train_tags_bigrams, list(set(tags)))"
   ]
  },
  {
   "cell_type": "markdown",
   "id": "e2d63ba4",
   "metadata": {},
   "source": [
    "Find and output the most common tag"
   ]
  },
  {
   "cell_type": "code",
   "execution_count": 25,
   "id": "ce1c0d15",
   "metadata": {},
   "outputs": [],
   "source": [
    "wordsFreq = FreqDist(words)\n",
    "tagsFreq = FreqDist(tags)"
   ]
  },
  {
   "cell_type": "code",
   "execution_count": 27,
   "id": "c9954328",
   "metadata": {},
   "outputs": [
    {
     "data": {
      "image/png": "[encoded data removed]",
      "text/plain": [
       "<Figure size 432x288 with 1 Axes>"
      ]
     },
     "metadata": {
      "needs_background": "light"
     },
     "output_type": "display_data"
    },
    {
     "data": {
      "text/plain": [
       "<AxesSubplot:title={'center':'Frequency Distribution of Tags - tr'}, xlabel='Samples', ylabel='Counts'>"
      ]
     },
     "execution_count": 27,
     "metadata": {},
     "output_type": "execute_result"
    }
   ],
   "source": [
    "tagsFreq.plot(title = f'Frequency Distribution of Tags - {lang}')"
   ]
  }
 ],
 "metadata": {
  "kernelspec": {
   "display_name": "Python 3 (ipykernel)",
   "language": "python",
   "name": "python3"
  },
  "language_info": {
   "codemirror_mode": {
    "name": "ipython",
    "version": 3
   },
   "file_extension": ".py",
   "mimetype": "text/x-python",
   "name": "python",
   "nbconvert_exporter": "python",
   "pygments_lexer": "ipython3",
   "version": "3.7.11"
  }
 },
 "nbformat": 4,
 "nbformat_minor": 5
}
